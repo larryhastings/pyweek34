{
 "cells": [
  {
   "cell_type": "code",
   "execution_count": 18,
   "metadata": {},
   "outputs": [],
   "source": [
    "from xml.etree import ElementTree as ET\n",
    "from pathlib import Path\n",
    "\n",
    "doc = ET.parse('../data/Color Platforms.tsx')"
   ]
  },
  {
   "cell_type": "code",
   "execution_count": 19,
   "metadata": {},
   "outputs": [],
   "source": [
    "tileset = doc.getroot()"
   ]
  },
  {
   "cell_type": "code",
   "execution_count": 20,
   "metadata": {},
   "outputs": [],
   "source": [
    "tiles = [t for t in tileset if t.tag == 'tile']\n",
    "other = [t for t in tileset if t.tag != 'tile']"
   ]
  },
  {
   "cell_type": "code",
   "execution_count": 27,
   "metadata": {},
   "outputs": [],
   "source": [
    "for t in tiles:\n",
    "    img = Path(t.find('image').attrib['source'])\n",
    "    color = img.stem.rsplit('_', 1)[-1]\n",
    "    for p in t.findall('properties'):\n",
    "        t.remove(p)\n",
    "    if (props := t.find('properties')) is None:\n",
    "        props = ET.SubElement(t, 'properties')\n",
    "    for p in t.findall('property'):\n",
    "        t.remove(p)\n",
    "    if (prop := props.find(\"./property[@name='color']\")) is None:\n",
    "        prop = ET.SubElement(props, 'property')\n",
    "    prop.attrib.update(\n",
    "        name='color',\n",
    "        value=color,\n",
    "    )\n",
    "\n",
    "def sort_key(t):\n",
    "    img = Path(t.find('image').attrib['source'])\n",
    "    stem, color = img.stem.rsplit('_', 1)\n",
    "    return color, stem\n",
    "\n",
    "tiles.sort(key=sort_key)\n",
    "for i, t in enumerate(tiles):\n",
    "    t.attrib['id'] = str(i)\n",
    "\n",
    "tileset[:] = other + tiles"
   ]
  },
  {
   "cell_type": "code",
   "execution_count": 28,
   "metadata": {},
   "outputs": [],
   "source": [
    "doc.write('../data/Color Platforms.tsx')"
   ]
  }
 ],
 "metadata": {
  "kernelspec": {
   "display_name": "Python 3.10.2 ('.venv': venv)",
   "language": "python",
   "name": "python3"
  },
  "language_info": {
   "codemirror_mode": {
    "name": "ipython",
    "version": 3
   },
   "file_extension": ".py",
   "mimetype": "text/x-python",
   "name": "python",
   "nbconvert_exporter": "python",
   "pygments_lexer": "ipython3",
   "version": "3.10.2"
  },
  "orig_nbformat": 4,
  "vscode": {
   "interpreter": {
    "hash": "ec1493184c6433939520d9d48f6b0981aaa7a2cb27247489a23c039c5d9e686c"
   }
  }
 },
 "nbformat": 4,
 "nbformat_minor": 2
}
